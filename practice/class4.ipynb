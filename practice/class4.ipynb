{
 "cells": [
  {
   "cell_type": "code",
   "execution_count": 1,
   "metadata": {},
   "outputs": [
    {
     "name": "stdout",
     "output_type": "stream",
     "text": [
      "name = sid\n",
      "name = paresh\n",
      "name = hetvi\n",
      "name = hemaxi\n",
      "name = honey\n"
     ]
    }
   ],
   "source": [
    "# accept 5 names from user\n",
    "\n",
    "for i in range(1,6):\n",
    "    name = input('Enter Your name:')\n",
    "    print('name =',name)"
   ]
  },
  {
   "cell_type": "code",
   "execution_count": 2,
   "metadata": {},
   "outputs": [
    {
     "name": "stdout",
     "output_type": "stream",
     "text": [
      "num = 1\n",
      "num = 2\n",
      "num = 3\n",
      "num = 4\n",
      "num = 5\n"
     ]
    }
   ],
   "source": [
    "# accept 5 numbers from user\n",
    "\n",
    "for i in range(1,6):\n",
    "    num =int(input('Enter a Number:'))\n",
    "    print('num =', num)"
   ]
  },
  {
   "cell_type": "code",
   "execution_count": 5,
   "metadata": {},
   "outputs": [
    {
     "name": "stdout",
     "output_type": "stream",
     "text": [
      "sum = 14\n",
      "sum = 21\n",
      "sum = 26\n",
      "sum = 30\n",
      "sum = 36\n"
     ]
    }
   ],
   "source": [
    "# accept 5 number from user\n",
    "\n",
    "for i in range(1,6):\n",
    "    num = int(input('ENTER A NUMBER:'))\n",
    "    sum += num\n",
    "\n",
    "    print('sum =', sum)"
   ]
  },
  {
   "cell_type": "code",
   "execution_count": 7,
   "metadata": {},
   "outputs": [
    {
     "name": "stdout",
     "output_type": "stream",
     "text": [
      "2 is Even\n",
      "5 is Odd\n",
      "8 is Even\n",
      "7 is Odd\n",
      "6 is Even\n"
     ]
    }
   ],
   "source": [
    "# accept 5 numbers anf find even number odd number\n",
    "\n",
    "\n",
    "for i in range(1,6):\n",
    "    num =int(input('enter a number:'))\n",
    "    if num % 2==0:\n",
    "        print(num,'is Even')\n",
    "    else:\n",
    "        print(num,'is Odd')"
   ]
  },
  {
   "cell_type": "code",
   "execution_count": 10,
   "metadata": {},
   "outputs": [
    {
     "ename": "ValueError",
     "evalue": "invalid literal for int() with base 10: ''",
     "output_type": "error",
     "traceback": [
      "\u001b[1;31m---------------------------------------------------------------------------\u001b[0m",
      "\u001b[1;31mValueError\u001b[0m                                Traceback (most recent call last)",
      "\u001b[1;32mc:\\Users\\Atul Vyas\\Desktop\\python_mrg_batch\\class4.ipynb Cell 5'\u001b[0m in \u001b[0;36m<cell line: 5>\u001b[1;34m()\u001b[0m\n\u001b[0;32m      <a href='vscode-notebook-cell:/c%3A/Users/Atul%20Vyas/Desktop/python_mrg_batch/class4.ipynb#ch0000006?line=2'>3</a>\u001b[0m odd_count \u001b[39m=\u001b[39m \u001b[39m0\u001b[39m\n\u001b[0;32m      <a href='vscode-notebook-cell:/c%3A/Users/Atul%20Vyas/Desktop/python_mrg_batch/class4.ipynb#ch0000006?line=4'>5</a>\u001b[0m \u001b[39mfor\u001b[39;00m i \u001b[39min\u001b[39;00m \u001b[39mrange\u001b[39m(\u001b[39m1\u001b[39m,\u001b[39m6\u001b[39m):\n\u001b[1;32m----> <a href='vscode-notebook-cell:/c%3A/Users/Atul%20Vyas/Desktop/python_mrg_batch/class4.ipynb#ch0000006?line=5'>6</a>\u001b[0m     num \u001b[39m=\u001b[39m \u001b[39mint\u001b[39;49m(\u001b[39minput\u001b[39;49m(\u001b[39m'\u001b[39;49m\u001b[39mEnter a number:\u001b[39;49m\u001b[39m'\u001b[39;49m))\n\u001b[0;32m      <a href='vscode-notebook-cell:/c%3A/Users/Atul%20Vyas/Desktop/python_mrg_batch/class4.ipynb#ch0000006?line=6'>7</a>\u001b[0m     \u001b[39mif\u001b[39;00m num \u001b[39m%\u001b[39m \u001b[39m2\u001b[39m \u001b[39m==\u001b[39m \u001b[39m0\u001b[39m:\n\u001b[0;32m      <a href='vscode-notebook-cell:/c%3A/Users/Atul%20Vyas/Desktop/python_mrg_batch/class4.ipynb#ch0000006?line=7'>8</a>\u001b[0m         even_count \u001b[39m=\u001b[39m\u001b[39m+\u001b[39m \u001b[39m1\u001b[39m\n",
      "\u001b[1;31mValueError\u001b[0m: invalid literal for int() with base 10: ''"
     ]
    }
   ],
   "source": [
    "# acept 5 numbers and count numbers of evens and odd \n",
    "even_count = 0\n",
    "odd_count = 0\n",
    "\n",
    "for i in range(1,6):\n",
    "    num = int(input('Enter a number:'))\n",
    "    if num % 2 == 0:\n",
    "        even_count =+ 1\n",
    "    else:\n",
    "        odd_count =+ 1\n",
    "\n",
    "    print('Even count =',even_count)\n",
    "    print('odd count',odd_count)\n",
    "\n",
    "    "
   ]
  },
  {
   "cell_type": "code",
   "execution_count": 16,
   "metadata": {},
   "outputs": [
    {
     "name": "stdout",
     "output_type": "stream",
     "text": [
      "positive number 0\n",
      "nagetive number 1\n"
     ]
    }
   ],
   "source": [
    "positive = 0\n",
    "nagetive = 0\n",
    "\n",
    "num = int(input('Enter your number:'))\n",
    "if num % 2 == 0:\n",
    "        positive += 1\n",
    "else:\n",
    "        nagetive += 1\n",
    "\n",
    "print('positive number',positive)\n",
    "print('nagetive number',nagetive)\n"
   ]
  },
  {
   "cell_type": "code",
   "execution_count": 21,
   "metadata": {},
   "outputs": [
    {
     "name": "stdout",
     "output_type": "stream",
     "text": [
      "fectorial = 120\n"
     ]
    }
   ],
   "source": [
    "# fectorial number\n",
    "\n",
    "\n",
    "# 5 = 5 *4 3 *2* 1\n",
    "\n",
    "num = int(input('enter a number'))\n",
    "if num > 0:\n",
    "    f = 1\n",
    "    for i in range(1, num + 1):\n",
    "        f *= i\n",
    "\n",
    "    print('fectorial =', f)\n",
    "\n",
    "else:\n",
    "    print('invalid input')"
   ]
  },
  {
   "cell_type": "code",
   "execution_count": 30,
   "metadata": {},
   "outputs": [
    {
     "name": "stdout",
     "output_type": "stream",
     "text": [
      "3 6 9 12 15 18 21 24 27 30 33 36 \n",
      "2 5 8 11 14 17 20 23 26 29 32 35 "
     ]
    }
   ],
   "source": [
    "for i in range(3,37,3):\n",
    "    print(i,end = ' ')\n",
    "\n",
    "print()\n",
    "\n",
    "\n",
    "for i in range(2,36,3):\n",
    "    print(i, end = ' ')"
   ]
  },
  {
   "cell_type": "code",
   "execution_count": null,
   "metadata": {},
   "outputs": [],
   "source": []
  }
 ],
 "metadata": {
  "kernelspec": {
   "display_name": "Python 3.9.6 64-bit",
   "language": "python",
   "name": "python3"
  },
  "language_info": {
   "codemirror_mode": {
    "name": "ipython",
    "version": 3
   },
   "file_extension": ".py",
   "mimetype": "text/x-python",
   "name": "python",
   "nbconvert_exporter": "python",
   "pygments_lexer": "ipython3",
   "version": "3.9.6"
  },
  "orig_nbformat": 4,
  "vscode": {
   "interpreter": {
    "hash": "b8eeea7db13471468ad276e1aa6abbd3f9f4200994ed792cdeec60c0462f2e2a"
   }
  }
 },
 "nbformat": 4,
 "nbformat_minor": 2
}
