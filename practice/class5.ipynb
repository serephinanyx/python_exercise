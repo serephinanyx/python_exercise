{
 "cells": [
  {
   "cell_type": "markdown",
   "metadata": {},
   "source": [
    "for loop:  sequence controlled loop\n",
    "\n",
    "syntax:\n",
    "\n",
    "for var in sequnce:\n",
    "    statement"
   ]
  },
  {
   "cell_type": "markdown",
   "metadata": {},
   "source": [
    "while loop : entry controlled loop : condition check at entry leval\n",
    "\n",
    "\n",
    "syntax:\n",
    "\n",
    "initlization\n",
    "\n",
    "while condition:\n",
    "\n",
    "    statement\n",
    "    \n",
    "    updation"
   ]
  },
  {
   "cell_type": "markdown",
   "metadata": {},
   "source": []
  },
  {
   "cell_type": "code",
   "execution_count": null,
   "metadata": {},
   "outputs": [],
   "source": [
    "i = 1\n",
    "\n",
    "while 1 <= 5:\n",
    "    print('play mario')\n",
    "\n",
    "    i += 1"
   ]
  },
  {
   "cell_type": "code",
   "execution_count": 3,
   "metadata": {},
   "outputs": [
    {
     "name": "stdout",
     "output_type": "stream",
     "text": [
      "english\n",
      "hindi\n"
     ]
    }
   ],
   "source": [
    "status = True\n",
    "\n",
    "while status:\n",
    "    subject = input('enter your subject name :')\n",
    "    print(subject)\n",
    "    choice = input(\"do you want to enter more subject? press 'y' for yes press'n' for no\")\n",
    "\n",
    "    if choice =='n' or choice =='N' or choice == 'N':\n",
    "        status = False\n",
    "\n",
    "        "
   ]
  },
  {
   "cell_type": "code",
   "execution_count": 2,
   "metadata": {},
   "outputs": [
    {
     "name": "stdout",
     "output_type": "stream",
     "text": [
      "pass\n",
      "pass\n",
      "fail\n"
     ]
    }
   ],
   "source": [
    "status = True\n",
    "\n",
    "while status:\n",
    "    marks = int(input('Enter your marks:'))\n",
    "    if marks < 35:\n",
    "        print('fail')\n",
    "        status = False\n",
    "    else:\n",
    "        print('pass')"
   ]
  },
  {
   "cell_type": "code",
   "execution_count": 7,
   "metadata": {},
   "outputs": [],
   "source": [
    "import random\n",
    "\n",
    "computer_guess =  random.randint(1,100)\n",
    "\n",
    "trial = 5\n",
    "\n",
    "while trial > 5:\n",
    "    user_guess = int(input('Enter number:'))\n",
    "    if user_guess > computer_guess:\n",
    "        print('HINT : guess lower number')\n",
    "    elif user_guess < computer_guess:\n",
    "        print('HINT : guess higher number')\n",
    "    else:\n",
    "        print('you got it !!!!')\n",
    "        trial = 0\n",
    "    trial -= 1"
   ]
  },
  {
   "cell_type": "code",
   "execution_count": 8,
   "metadata": {},
   "outputs": [
    {
     "name": "stdout",
     "output_type": "stream",
     "text": [
      " *   *   *   *   *  \n",
      " *   *   *   *   *  \n",
      " *   *   *   *   *  \n",
      " *   *   *   *   *  \n",
      " *   *   *   *   *  \n"
     ]
    }
   ],
   "source": [
    "for row in range (1,6):\n",
    "    for col in range(1,6):\n",
    "        print(' * ', end = ' ')\n",
    "    print()"
   ]
  },
  {
   "cell_type": "code",
   "execution_count": 9,
   "metadata": {},
   "outputs": [
    {
     "name": "stdout",
     "output_type": "stream",
     "text": [
      " *  *  *  *  * \n",
      " *  *  *  *  * \n",
      " *  *  $   *  * \n",
      " *  *  *  *  * \n",
      " *  *  *  *  * \n"
     ]
    }
   ],
   "source": [
    "for row in range (1,6):\n",
    "    for col in range(1,6):\n",
    "        if row == 3 and col == 3:\n",
    "            print(' $ ', end = ' ')\n",
    "        else:\n",
    "            print(' *', end = ' ')\n",
    "    print()"
   ]
  },
  {
   "cell_type": "code",
   "execution_count": 10,
   "metadata": {},
   "outputs": [
    {
     "name": "stdout",
     "output_type": "stream",
     "text": [
      "* \n",
      "* * \n",
      "* * * \n",
      "* * * * \n"
     ]
    }
   ],
   "source": [
    "for row in range (1,5):\n",
    "    for col in range (1,row+1):\n",
    "        print('*', end = ' ')\n",
    "    print()"
   ]
  },
  {
   "cell_type": "code",
   "execution_count": 11,
   "metadata": {},
   "outputs": [
    {
     "name": "stdout",
     "output_type": "stream",
     "text": [
      "1 \n",
      "2 2 \n",
      "3 3 3 \n",
      "4 4 4 4 \n",
      "5 5 5 5 5 \n"
     ]
    }
   ],
   "source": [
    "for row in range (1,6):\n",
    "    for col in range(1, row + 1):\n",
    "        print(row, end =\" \")\n",
    "    print()"
   ]
  },
  {
   "cell_type": "code",
   "execution_count": 12,
   "metadata": {},
   "outputs": [
    {
     "name": "stdout",
     "output_type": "stream",
     "text": [
      "1 \n",
      "1 2 \n",
      "1 2 3 \n",
      "1 2 3 4 \n",
      "1 2 3 4 5 \n"
     ]
    }
   ],
   "source": [
    "for row in range (1,6):\n",
    "    for col in range(1, row + 1):\n",
    "        print(col, end = \" \")\n",
    "    print()"
   ]
  },
  {
   "cell_type": "code",
   "execution_count": 14,
   "metadata": {},
   "outputs": [
    {
     "name": "stdout",
     "output_type": "stream",
     "text": [
      "1 \n",
      "0 0 \n",
      "1 1 1 \n",
      "0 0 0 0 \n",
      "1 1 1 1 1 \n"
     ]
    }
   ],
   "source": [
    "for row in range(1,6):\n",
    "    for col in range (1,row + 1):\n",
    "        if row % 2 == 0:\n",
    "            print('0',end =\" \")\n",
    "        else:\n",
    "            print('1', end = ' ')\n",
    "    print()"
   ]
  },
  {
   "cell_type": "code",
   "execution_count": 15,
   "metadata": {},
   "outputs": [
    {
     "name": "stdout",
     "output_type": "stream",
     "text": [
      "1 \n",
      "1 0 \n",
      "1 0 1 \n",
      "1 0 1 0 \n",
      "1 0 1 0 1 \n"
     ]
    }
   ],
   "source": [
    "for row in range(1,6):\n",
    "    for col in range (1,row + 1):\n",
    "        if col % 2 == 0:\n",
    "            print('0',end =\" \")\n",
    "        else:\n",
    "            print('1', end = ' ')\n",
    "    print()"
   ]
  },
  {
   "cell_type": "markdown",
   "metadata": {},
   "source": [
    "for i in range (1,6):\n"
   ]
  },
  {
   "cell_type": "code",
   "execution_count": 16,
   "metadata": {},
   "outputs": [
    {
     "name": "stdout",
     "output_type": "stream",
     "text": [
      "pass\n",
      "pass\n",
      "pass\n",
      "pass\n",
      "pass\n"
     ]
    }
   ],
   "source": [
    "for i in range(1,6):\n",
    "    marks = int(input('enter marks:'))\n",
    "    if marks > 35:\n",
    "        print('pass')\n",
    "    else:\n",
    "        break"
   ]
  },
  {
   "cell_type": "code",
   "execution_count": 17,
   "metadata": {},
   "outputs": [
    {
     "name": "stdout",
     "output_type": "stream",
     "text": [
      "1\n",
      "2\n",
      "4\n",
      "5\n"
     ]
    }
   ],
   "source": [
    "# continue : it will skip current statement\n",
    "\n",
    "\n",
    "for i in range(1,6):\n",
    "    if i == 3:\n",
    "        continue\n",
    "    else:\n",
    "        print(i)"
   ]
  },
  {
   "cell_type": "code",
   "execution_count": 18,
   "metadata": {},
   "outputs": [
    {
     "name": "stdout",
     "output_type": "stream",
     "text": [
      "1\n",
      "2\n",
      "4\n",
      "5\n"
     ]
    }
   ],
   "source": [
    "for i in range(1,6):\n",
    "    if i == 3:\n",
    "        pass\n",
    "    else:\n",
    "        print(i)"
   ]
  },
  {
   "cell_type": "code",
   "execution_count": null,
   "metadata": {},
   "outputs": [],
   "source": []
  }
 ],
 "metadata": {
  "kernelspec": {
   "display_name": "Python 3.9.6 64-bit",
   "language": "python",
   "name": "python3"
  },
  "language_info": {
   "codemirror_mode": {
    "name": "ipython",
    "version": 3
   },
   "file_extension": ".py",
   "mimetype": "text/x-python",
   "name": "python",
   "nbconvert_exporter": "python",
   "pygments_lexer": "ipython3",
   "version": "3.9.6"
  },
  "orig_nbformat": 4,
  "vscode": {
   "interpreter": {
    "hash": "b8eeea7db13471468ad276e1aa6abbd3f9f4200994ed792cdeec60c0462f2e2a"
   }
  }
 },
 "nbformat": 4,
 "nbformat_minor": 2
}
