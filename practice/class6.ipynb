{
 "cells": [
  {
   "cell_type": "markdown",
   "metadata": {},
   "source": [
    "string =  colletion of charecters\n",
    "\n",
    "\n",
    "string  which is represent by double quoteds\n",
    "\n",
    "e.g name = 'python'\n"
   ]
  },
  {
   "cell_type": "code",
   "execution_count": 27,
   "metadata": {},
   "outputs": [
    {
     "name": "stdout",
     "output_type": "stream",
     "text": [
      "\n",
      "        press 1 for play\n",
      "        press 2 for exit\n",
      "        \n"
     ]
    }
   ],
   "source": [
    "menu = '''\n",
    "        press 1 for play\n",
    "        press 2 for exit\n",
    "        '''\n",
    "print(menu)"
   ]
  },
  {
   "cell_type": "code",
   "execution_count": 4,
   "metadata": {},
   "outputs": [
    {
     "name": "stdout",
     "output_type": "stream",
     "text": [
      "9\n"
     ]
    }
   ],
   "source": [
    "name = input('enter a name:')\n",
    "print(len(name))\n",
    "\n",
    "\n",
    "# len():  inbuilt function which is return length of string\n",
    "\n"
   ]
  },
  {
   "cell_type": "code",
   "execution_count": 36,
   "metadata": {},
   "outputs": [
    {
     "name": "stdout",
     "output_type": "stream",
     "text": [
      "yes\n"
     ]
    }
   ],
   "source": [
    "# lower()  : lower is ibbuilt method which is conert entered string/\n",
    "\n",
    "choice = input('do you want to enter more student press y for yes:')\n",
    "\n",
    "if choice.lower() =='y':\n",
    "    print('yes')\n",
    "else:\n",
    "    print('no')"
   ]
  },
  {
   "cell_type": "code",
   "execution_count": 16,
   "metadata": {},
   "outputs": [
    {
     "name": "stdout",
     "output_type": "stream",
     "text": [
      "PYTHON\n"
     ]
    }
   ],
   "source": [
    "# upper() : to convert charecters into uppercase\n",
    "\n",
    "name = 'python'\n",
    "print(name.upper())"
   ]
  },
  {
   "cell_type": "code",
   "execution_count": 17,
   "metadata": {},
   "outputs": [
    {
     "name": "stdout",
     "output_type": "stream",
     "text": [
      "valid input\n"
     ]
    }
   ],
   "source": [
    "# endswith() : endswith check string ending charecters with parameters\n",
    "\n",
    "website  = input('enter your website:')\n",
    "\n",
    "if website.endswith('.com'):\n",
    "    print('valid input')\n",
    "else:\n",
    "    print('invalid input')"
   ]
  },
  {
   "cell_type": "code",
   "execution_count": 19,
   "metadata": {},
   "outputs": [
    {
     "name": "stdout",
     "output_type": "stream",
     "text": [
      "                     WELCOME                      \n"
     ]
    }
   ],
   "source": [
    "name = 'WELCOME'\n",
    "\n",
    "print(name.center(50))"
   ]
  },
  {
   "cell_type": "code",
   "execution_count": 24,
   "metadata": {},
   "outputs": [
    {
     "name": "stdout",
     "output_type": "stream",
     "text": [
      "Python\n"
     ]
    }
   ],
   "source": [
    "name = 'python'\n",
    "\n",
    "print(name.capitalize())"
   ]
  },
  {
   "cell_type": "code",
   "execution_count": 26,
   "metadata": {},
   "outputs": [
    {
     "name": "stdout",
     "output_type": "stream",
     "text": [
      "invalid input\n"
     ]
    }
   ],
   "source": [
    "firstname = input('enter your name:')\n",
    "\n",
    "if firstname.isalpha():\n",
    "    print('yes valid')\n",
    "else:\n",
    "    print('invalid input')"
   ]
  },
  {
   "cell_type": "code",
   "execution_count": 28,
   "metadata": {},
   "outputs": [
    {
     "name": "stdout",
     "output_type": "stream",
     "text": [
      "your entry is valid\n"
     ]
    }
   ],
   "source": [
    "# isdigit() : to check enterd string contain digit or not\n",
    "\n",
    "\n",
    "\n",
    "# checking entersd string contain digit or not if yes then it will return true\n",
    "\n",
    "\n",
    "\n",
    "contactNumber = input('Enter contact number:')\n",
    "\n",
    "if contactNumber.isdigit():\n",
    "    print('your entry is valid')\n",
    "else:\n",
    "    print('invalid entry')"
   ]
  },
  {
   "cell_type": "code",
   "execution_count": 31,
   "metadata": {},
   "outputs": [
    {
     "name": "stdout",
     "output_type": "stream",
     "text": [
      "s\n",
      "i\n",
      "d\n",
      "total number or charecters: 3\n"
     ]
    }
   ],
   "source": [
    "name = input('enter your name:')\n",
    "\n",
    "count = 0 \n",
    "\n",
    "for i in name:\n",
    "    count += 1\n",
    "    print(i)\n",
    "\n",
    "print('total number or charecters:',count)"
   ]
  },
  {
   "cell_type": "code",
   "execution_count": 32,
   "metadata": {},
   "outputs": [
    {
     "name": "stdout",
     "output_type": "stream",
     "text": [
      "python\n",
      "p\n",
      "h\n",
      "n\n"
     ]
    }
   ],
   "source": [
    "# string slicing = indexing\n",
    "\n",
    "\n",
    "subject = 'python'\n",
    "\n",
    "print(subject)\n",
    "\n",
    "print(subject[0])\n",
    "\n",
    "\n",
    "print(subject[3])\n",
    "\n",
    "print(subject[-1])\n",
    "\n"
   ]
  },
  {
   "cell_type": "code",
   "execution_count": 34,
   "metadata": {},
   "outputs": [
    {
     "name": "stdout",
     "output_type": "stream",
     "text": [
      "python\n",
      "pyth\n",
      "ho\n",
      "th\n",
      "hon\n"
     ]
    }
   ],
   "source": [
    "subject = 'python'\n",
    "\n",
    "print(subject)\n",
    "\n",
    "print(subject[:4])  \n",
    "\n",
    "print(subject[3:5]) \n",
    "\n",
    "\n",
    "print(subject[-4 : -2])\n",
    "\n",
    "\n",
    "print(subject[-3:])"
   ]
  },
  {
   "cell_type": "markdown",
   "metadata": {},
   "source": [
    "dgfmdsokfmdsfgsfsfs;'s\n",
    "\n"
   ]
  },
  {
   "cell_type": "markdown",
   "metadata": {},
   "source": [
    "task:\n",
    "\n",
    "\n",
    "take three variable:\n",
    "\n",
    "\n",
    "\n",
    "which contain firstname, emale and password\n",
    "\n",
    "\n",
    "accrpt email and password from user and check enterd email and password is match with existing one if not they display appropriate error if yes then display firstname"
   ]
  },
  {
   "cell_type": "code",
   "execution_count": null,
   "metadata": {},
   "outputs": [],
   "source": [
    "firstName = 'siddharth vyas'\n",
    "\n",
    "email = 'vyassiddharthvyas325@gmail.com'\n",
    "\n",
    "password = 1234567890\n",
    "\n",
    "\n",
    "Email_01 = input('Enter your Email:')\n",
    "password_02 = input('Enter your password:')\n",
    "\n",
    "\n"
   ]
  }
 ],
 "metadata": {
  "kernelspec": {
   "display_name": "Python 3.9.6 64-bit",
   "language": "python",
   "name": "python3"
  },
  "language_info": {
   "codemirror_mode": {
    "name": "ipython",
    "version": 3
   },
   "file_extension": ".py",
   "mimetype": "text/x-python",
   "name": "python",
   "nbconvert_exporter": "python",
   "pygments_lexer": "ipython3",
   "version": "3.9.6"
  },
  "orig_nbformat": 4,
  "vscode": {
   "interpreter": {
    "hash": "b8eeea7db13471468ad276e1aa6abbd3f9f4200994ed792cdeec60c0462f2e2a"
   }
  }
 },
 "nbformat": 4,
 "nbformat_minor": 2
}
