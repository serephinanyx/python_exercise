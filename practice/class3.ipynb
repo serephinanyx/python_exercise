{
 "cells": [
  {
   "cell_type": "markdown",
   "metadata": {},
   "source": [
    "conditional statement: \n",
    "\n",
    "1) if ....statement\n",
    "2) if ....else condition\n",
    "3)  elif statement:     for multiple condition\n",
    "\n",
    "\n",
    "syntax:\n",
    "\n",
    "if condition:\n",
    "            statement\n",
    "elif condition:\n",
    "            statement\n",
    "elif condition:\n",
    "            statement\n",
    "else:\n",
    "            statement"
   ]
  },
  {
   "cell_type": "code",
   "execution_count": 2,
   "metadata": {},
   "outputs": [
    {
     "name": "stdout",
     "output_type": "stream",
     "text": [
      "num = 10\n"
     ]
    }
   ],
   "source": [
    "# elif statement\n",
    "\n",
    "\n",
    "num = int(input('Enter your number:'))\n",
    "\n",
    "if num== 10:\n",
    "    print('num = 10')\n",
    "elif num == 20:\n",
    "    print('num = 20')\n",
    "elif num == 30:\n",
    "    print('num = 30')\n",
    "else:\n",
    "    print('invalid number')"
   ]
  },
  {
   "cell_type": "code",
   "execution_count": 7,
   "metadata": {},
   "outputs": [
    {
     "name": "stdout",
     "output_type": "stream",
     "text": [
      "print is below 10 or number is above 100\n"
     ]
    }
   ],
   "source": [
    "num = int(input('Enter your number'))\n",
    "\n",
    "if num >= 10 and num <= 50:\n",
    "    print('number is between 10 - 50')\n",
    "elif num >= 51 and num <= 100:\n",
    "    print('number is between 51 - 100')\n",
    "else:\n",
    "    print('print is below 10 or number is above 100')"
   ]
  },
  {
   "cell_type": "code",
   "execution_count": 14,
   "metadata": {},
   "outputs": [
    {
     "name": "stdout",
     "output_type": "stream",
     "text": [
      "you are pass with D grade\n"
     ]
    }
   ],
   "source": [
    "mark = int(input('Enter your mark:'))\n",
    "\n",
    "if mark >= 70:\n",
    "    print('you are in pass with A grade')\n",
    "elif mark >= 60 and mark < 70:\n",
    "    print('you are pass with B grade')\n",
    "elif mark >= 50 and mark < 60:\n",
    "    print('you are pass with C grade')\n",
    "elif mark >= 40 and mark < 50:\n",
    "     print('you are pass with D grade')\n",
    "else:\n",
    "    print('you are fail')"
   ]
  },
  {
   "cell_type": "markdown",
   "metadata": {},
   "source": [
    "nested if statement:\n",
    "\n",
    "if inside the if statement\n",
    "\n",
    "\n",
    "syntax:\n",
    "\n",
    "if condition:\n",
    "        statement\n",
    "if condition:\n",
    "        if condition:\n",
    "        if condition:\n",
    "                statement\n",
    "        else:\n",
    "                statement"
   ]
  },
  {
   "cell_type": "code",
   "execution_count": 15,
   "metadata": {},
   "outputs": [
    {
     "name": "stdout",
     "output_type": "stream",
     "text": [
      "invalid password\n"
     ]
    }
   ],
   "source": [
    "email ='vyas1604@gmail.com'\n",
    "password =123456\n",
    "\n",
    "s_email = input('enter email:')\n",
    "s_password = input('enter your password:')\n",
    "\n",
    "if s_email == email:\n",
    "    if s_password == password:\n",
    "        print('WELCOME TO PYTHON')\n",
    "    else:\n",
    "        print('invalid password')\n",
    "else:\n",
    "    print('invalid email')"
   ]
  },
  {
   "cell_type": "code",
   "execution_count": 16,
   "metadata": {},
   "outputs": [
    {
     "name": "stdout",
     "output_type": "stream",
     "text": [
      "invalid input\n"
     ]
    }
   ],
   "source": [
    "\n",
    "mark = int(input('Enter your mark:'))\n",
    "\n",
    "if mark >= 0 and mark<= 100:\n",
    "    if mark >= 70:\n",
    "        print('you are in pass with A grade')\n",
    "    elif mark >= 60 and mark < 70:\n",
    "        print('you are pass with B grade')\n",
    "    elif mark >= 50 and mark < 60:\n",
    "        print('you are pass with C grade')\n",
    "    elif mark >= 40 and mark < 50:\n",
    "        print('you are pass with D grade')\n",
    "    else:\n",
    "        print('you are fail')\n",
    "else:\n",
    "    print('invalid input')"
   ]
  },
  {
   "cell_type": "code",
   "execution_count": 2,
   "metadata": {},
   "outputs": [],
   "source": []
  },
  {
   "cell_type": "code",
   "execution_count": null,
   "metadata": {},
   "outputs": [],
   "source": []
  }
 ],
 "metadata": {
  "kernelspec": {
   "display_name": "Python 3.9.6 64-bit",
   "language": "python",
   "name": "python3"
  },
  "language_info": {
   "codemirror_mode": {
    "name": "ipython",
    "version": 3
   },
   "file_extension": ".py",
   "mimetype": "text/x-python",
   "name": "python",
   "nbconvert_exporter": "python",
   "pygments_lexer": "ipython3",
   "version": "3.9.6"
  },
  "orig_nbformat": 4,
  "vscode": {
   "interpreter": {
    "hash": "b8eeea7db13471468ad276e1aa6abbd3f9f4200994ed792cdeec60c0462f2e2a"
   }
  }
 },
 "nbformat": 4,
 "nbformat_minor": 2
}
