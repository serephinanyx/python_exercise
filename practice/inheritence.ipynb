{
 "cells": [
  {
   "cell_type": "markdown",
   "metadata": {},
   "source": [
    "INHERITANCE: one class derived properties of another class , its called inheritance.\n",
    "             represents parent and child relationship\n",
    "*why we use inheritance: inheritance provide reusability.\n",
    "                         reduce code and save time."
   ]
  },
  {
   "cell_type": "markdown",
   "metadata": {},
   "source": [
    "              user\n",
    "--------------------------------------\n",
    "              email\n",
    "              password\n",
    "----------------------------------------\n",
    "doctor                   patient\n",
    " user                       user\n",
    " specification              blood group"
   ]
  },
  {
   "cell_type": "markdown",
   "metadata": {},
   "source": [
    "1)single inheritance:\n",
    "                                user\n",
    "                                 |\n",
    "                                doctor\n",
    "                                 |\n",
    "                                patient\n",
    "\n",
    "2) hierarchical inheritance:\n",
    "                                       User\n",
    "                                         |\n",
    "                                -------------------------\n",
    "                                doctor           patient\n",
    "                                \n",
    "3) multiple inheritance:\n",
    "                            parent1                  parent2\n",
    "                              |________________________|\n",
    "                                            |\n",
    "                                          child\n",
    "4) multilevel inheritance:\n",
    "                             parent1\n",
    "                                |\n",
    "                             parent2\n",
    "                                |\n",
    "                              child\n",
    "5) hybrid inheritance:\n",
    "                                  A                \n",
    "                      -------------------------\n",
    "                       B                    C\n",
    "                       |\n",
    "                       D\n"
   ]
  },
  {
   "cell_type": "markdown",
   "metadata": {},
   "source": []
  }
 ],
 "metadata": {
  "kernelspec": {
   "display_name": "Python 3.10.5 64-bit",
   "language": "python",
   "name": "python3"
  },
  "language_info": {
   "name": "python",
   "version": "3.10.5"
  },
  "orig_nbformat": 4,
  "vscode": {
   "interpreter": {
    "hash": "54265356f044bf1698c89aca25a77ab1520bcf24132a91d27168c2679f65f3c8"
   }
  }
 },
 "nbformat": 4,
 "nbformat_minor": 2
}
